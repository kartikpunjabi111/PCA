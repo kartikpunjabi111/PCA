{
  "nbformat": 4,
  "nbformat_minor": 0,
  "metadata": {
    "colab": {
      "name": "PCA.ipynb",
      "provenance": [],
      "collapsed_sections": [],
      "include_colab_link": true
    },
    "kernelspec": {
      "name": "python3",
      "display_name": "Python 3"
    }
  },
  "cells": [
    {
      "cell_type": "markdown",
      "metadata": {
        "id": "view-in-github",
        "colab_type": "text"
      },
      "source": [
        "<a href=\"https://colab.research.google.com/github/kartikpunjabi111/PCA/blob/master/PCA.ipynb\" target=\"_parent\"><img src=\"https://colab.research.google.com/assets/colab-badge.svg\" alt=\"Open In Colab\"/></a>"
      ]
    },
    {
      "cell_type": "code",
      "metadata": {
        "id": "VdGbUZIT_2gK",
        "colab_type": "code",
        "outputId": "c04e4c48-2aa5-4101-ce04-02f3d8897278",
        "colab": {
          "base_uri": "https://localhost:8080/",
          "height": 124
        }
      },
      "source": [
        "from google.colab import drive\n",
        "drive.mount('/content/drive')"
      ],
      "execution_count": 0,
      "outputs": [
        {
          "output_type": "stream",
          "text": [
            "Go to this URL in a browser: https://accounts.google.com/o/oauth2/auth?client_id=947318989803-6bn6qk8qdgf4n4g3pfee6491hc0brc4i.apps.googleusercontent.com&redirect_uri=urn%3aietf%3awg%3aoauth%3a2.0%3aoob&response_type=code&scope=email%20https%3a%2f%2fwww.googleapis.com%2fauth%2fdocs.test%20https%3a%2f%2fwww.googleapis.com%2fauth%2fdrive%20https%3a%2f%2fwww.googleapis.com%2fauth%2fdrive.photos.readonly%20https%3a%2f%2fwww.googleapis.com%2fauth%2fpeopleapi.readonly\n",
            "\n",
            "Enter your authorization code:\n",
            "··········\n",
            "Mounted at /content/drive\n"
          ],
          "name": "stdout"
        }
      ]
    },
    {
      "cell_type": "code",
      "metadata": {
        "id": "pEHqpQCU0fPb",
        "colab_type": "code",
        "colab": {}
      },
      "source": [
        "import numpy as np\n",
        "import pandas as pd  "
      ],
      "execution_count": 0,
      "outputs": []
    },
    {
      "cell_type": "code",
      "metadata": {
        "id": "CZEVqIJ9atZJ",
        "colab_type": "code",
        "outputId": "4bf4d18b-3794-4099-cb55-33d9b4c29366",
        "colab": {
          "base_uri": "https://localhost:8080/",
          "height": 69
        }
      },
      "source": [
        "dataset=np.loadtxt(open('/content/drive/My Drive/PCA_dataset'), delimiter='\\t')\n",
        "print( dataset.shape)\n",
        "print(dataset[:2])\n",
        "#take data set  /content/Untitled Document\n"
      ],
      "execution_count": 0,
      "outputs": [
        {
          "output_type": "stream",
          "text": [
            "(1826, 4)\n",
            "[[ 0.065 -0.027 -0.11  -0.046]\n",
            " [ 0.063  0.063  0.024 -0.044]]\n"
          ],
          "name": "stdout"
        }
      ]
    },
    {
      "cell_type": "code",
      "metadata": {
        "id": "03ig4atZbEbu",
        "colab_type": "code",
        "colab": {}
      },
      "source": [
        "a,b=dataset.shape"
      ],
      "execution_count": 0,
      "outputs": []
    },
    {
      "cell_type": "code",
      "metadata": {
        "id": "OJaC6IvzbWox",
        "colab_type": "code",
        "outputId": "91271668-5e70-4f89-d982-31a3a43ca508",
        "colab": {
          "base_uri": "https://localhost:8080/",
          "height": 156
        }
      },
      "source": [
        "#pre-processing : Mean normalization  #PCA algorithm \n",
        "mu=np.zeros(b)\n",
        "npdataset=np.array(dataset)\n",
        "for j in range (0,b):\n",
        "  for i in range (0,a):\n",
        "    mu[j]+=dataset[i][j]\n",
        "mu=mu/a\n",
        "print(mu)\n",
        "for j in range (0,b):\n",
        "  for i in range (0,a):\n",
        "    dataset[i][j]=dataset[i][j]-mu[j]\n",
        "print(dataset)\n",
        "\n"
      ],
      "execution_count": 0,
      "outputs": [
        {
          "output_type": "stream",
          "text": [
            "[-0.00301424 -0.00043812  0.00115772 -0.00344633]\n",
            "[[ 0.06801424 -0.02656188 -0.11115772 -0.04255367]\n",
            " [ 0.06601424  0.06343812  0.02284228 -0.04055367]\n",
            " [-0.02098576 -0.05056188 -0.01315772  0.03244633]\n",
            " ...\n",
            " [-0.04598576  0.06343812 -0.18915772  0.04544633]\n",
            " [-0.00898576  0.12043812  0.10884228 -0.04055367]\n",
            " [ 0.09301424  0.03943812  0.17184228  0.00544633]]\n"
          ],
          "name": "stdout"
        }
      ]
    },
    {
      "cell_type": "markdown",
      "metadata": {
        "id": "mjotPGqEmMJb",
        "colab_type": "text"
      },
      "source": [
        "## Reducing the dimension from  **4 to K dimension**"
      ]
    },
    {
      "cell_type": "code",
      "metadata": {
        "id": "AVKW_oMBB6R1",
        "colab_type": "code",
        "colab": {}
      },
      "source": [
        "no_of_dim=4  # Value of K(To number of dimenisions we want to reduce)"
      ],
      "execution_count": 0,
      "outputs": []
    },
    {
      "cell_type": "code",
      "metadata": {
        "id": "3b_4JsvQbXA4",
        "colab_type": "code",
        "colab": {}
      },
      "source": [
        "#computing the covariance matrix\n",
        "cov=dataset[i]"
      ],
      "execution_count": 0,
      "outputs": []
    },
    {
      "cell_type": "code",
      "metadata": {
        "id": "T3UfT0oJAxH0",
        "colab_type": "code",
        "colab": {}
      },
      "source": [
        "tempmatarr=np.zeros((a,4,4))"
      ],
      "execution_count": 0,
      "outputs": []
    },
    {
      "cell_type": "code",
      "metadata": {
        "id": "PagBOrYXbxqh",
        "colab_type": "code",
        "colab": {}
      },
      "source": [
        "for i in range (0,a):\n",
        "  cov=np.matmul((np.asmatrix(dataset[i]).transpose()),np.asmatrix(dataset[i]))\n",
        "  tempmatarr[i]=cov"
      ],
      "execution_count": 0,
      "outputs": []
    },
    {
      "cell_type": "code",
      "metadata": {
        "id": "1h5dDHYC5tQh",
        "colab_type": "code",
        "colab": {}
      },
      "source": [
        "from scipy.linalg import svd\n",
        "Z=np.zeros((a,4,no_of_dim))"
      ],
      "execution_count": 0,
      "outputs": []
    },
    {
      "cell_type": "code",
      "metadata": {
        "id": "HM42O2SdDWJa",
        "colab_type": "code",
        "outputId": "a630a489-8fab-415a-956c-98469c6a6730",
        "colab": {
          "base_uri": "https://localhost:8080/",
          "height": 87
        }
      },
      "source": [
        "for i in range (0,a):\n",
        "  U, s, VT = svd(tempmatarr[i])\n",
        "  Z[i]=U[:,:no_of_dim]\n",
        "print(Z[1])"
      ],
      "execution_count": 0,
      "outputs": [
        {
          "output_type": "stream",
          "text": [
            "[[-0.64274588  0.75056396  0.11647195 -0.09982865]\n",
            " [-0.61766353 -0.38960225 -0.48905677  0.47699615]\n",
            " [-0.22240323 -0.24888386 -0.36749909 -0.86806569]\n",
            " [ 0.39484972  0.47214473 -0.7824335   0.09471465]]\n"
          ],
          "name": "stdout"
        }
      ]
    },
    {
      "cell_type": "markdown",
      "metadata": {
        "id": "P3_mzLPvIpZp",
        "colab_type": "text"
      },
      "source": [
        "Taking first k columns of U matrices for reducing the dimension to 2"
      ]
    },
    {
      "cell_type": "code",
      "metadata": {
        "id": "nRFkv2KRfvut",
        "colab_type": "code",
        "outputId": "40b48b9a-e96c-4bb7-f67e-dc3614504916",
        "colab": {
          "base_uri": "https://localhost:8080/",
          "height": 35
        }
      },
      "source": [
        "NewDataset=np.zeros((a,no_of_dim,1))\n",
        "for i in range (0,a): \n",
        "  NewDataset[i]=Z[i].transpose()*(np.asmatrix(dataset[i]).transpose())\n",
        "print(NewDataset.shape)"
      ],
      "execution_count": 0,
      "outputs": [
        {
          "output_type": "stream",
          "text": [
            "(1826, 4, 1)\n"
          ],
          "name": "stdout"
        }
      ]
    },
    {
      "cell_type": "markdown",
      "metadata": {
        "id": "eJfnYz4XDZtl",
        "colab_type": "text"
      },
      "source": [
        "**NewDataset** is with `desired number` of dimension"
      ]
    },
    {
      "cell_type": "code",
      "metadata": {
        "id": "lc0uWryu4zcH",
        "colab_type": "code",
        "colab": {}
      },
      "source": [
        ""
      ],
      "execution_count": 0,
      "outputs": []
    }
  ]
}