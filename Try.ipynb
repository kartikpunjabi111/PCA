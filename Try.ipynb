{
  "nbformat": 4,
  "nbformat_minor": 0,
  "metadata": {
    "colab": {
      "name": "Try.ipynb",
      "provenance": [],
      "collapsed_sections": [],
      "include_colab_link": true
    },
    "kernelspec": {
      "name": "python3",
      "display_name": "Python 3"
    }
  },
  "cells": [
    {
      "cell_type": "markdown",
      "metadata": {
        "id": "view-in-github",
        "colab_type": "text"
      },
      "source": [
        "<a href=\"https://colab.research.google.com/github/kartikpunjabi111/PCA/blob/master/Try.ipynb\" target=\"_parent\"><img src=\"https://colab.research.google.com/assets/colab-badge.svg\" alt=\"Open In Colab\"/></a>"
      ]
    },
    {
      "cell_type": "code",
      "metadata": {
        "id": "u7ExptWva7YX",
        "colab_type": "code",
        "outputId": "0c2a407e-2c6b-4b42-fb41-c9924840d6ae",
        "colab": {
          "base_uri": "https://localhost:8080/",
          "height": 148
        }
      },
      "source": [
        "  !pip install pulp     \n",
        "  #set path"
      ],
      "execution_count": 0,
      "outputs": [
        {
          "output_type": "stream",
          "text": [
            "Collecting pulp\n",
            "\u001b[?25l  Downloading https://files.pythonhosted.org/packages/fb/34/ff5915ff6bae91cfb7c4cc22c3c369a6aea0b2127045dd5f308a91c260ac/PuLP-2.0-py3-none-any.whl (39.2MB)\n",
            "\u001b[K     |████████████████████████████████| 39.2MB 102kB/s \n",
            "\u001b[?25hRequirement already satisfied: pyparsing>=2.0.1 in /usr/local/lib/python3.6/dist-packages (from pulp) (2.4.6)\n",
            "Installing collected packages: pulp\n",
            "Successfully installed pulp-2.0\n"
          ],
          "name": "stdout"
        }
      ]
    },
    {
      "cell_type": "code",
      "metadata": {
        "id": "pEHqpQCU0fPb",
        "colab_type": "code",
        "colab": {}
      },
      "source": [
        "import numpy as np\n",
        "import pandas as pd\n",
        "  "
      ],
      "execution_count": 0,
      "outputs": []
    },
    {
      "cell_type": "markdown",
      "metadata": {
        "id": "FCIwD7mR2Gdl",
        "colab_type": "text"
      },
      "source": [
        "Essence to omit training on million sized data and to visualize data"
      ]
    },
    {
      "cell_type": "code",
      "metadata": {
        "id": "CZEVqIJ9atZJ",
        "colab_type": "code",
        "outputId": "a4ce5c4a-61f7-46c9-845a-a81c8c401987",
        "colab": {
          "base_uri": "https://localhost:8080/",
          "height": 69
        }
      },
      "source": [
        "dataset=np.loadtxt(open('/content/Untitled Document'), delimiter='\\t')\n",
        "print( dataset.shape)\n",
        "print(dataset[:2])\n",
        "#take data set\n"
      ],
      "execution_count": 0,
      "outputs": [
        {
          "output_type": "stream",
          "text": [
            "(107, 4)\n",
            "[[-0.049 -0.071 -0.132 -0.01 ]\n",
            " [-0.042 -0.073 -0.007 -0.105]]\n"
          ],
          "name": "stdout"
        }
      ]
    },
    {
      "cell_type": "code",
      "metadata": {
        "id": "03ig4atZbEbu",
        "colab_type": "code",
        "outputId": "e29acaf9-f4ae-48fe-f642-18ffa47d0c5d",
        "colab": {
          "base_uri": "https://localhost:8080/",
          "height": 35
        }
      },
      "source": [
        "a,b=dataset.shape\n",
        "print(a,b)\n",
        "#PCA algorithm\n"
      ],
      "execution_count": 0,
      "outputs": [
        {
          "output_type": "stream",
          "text": [
            "107 4\n"
          ],
          "name": "stdout"
        }
      ]
    },
    {
      "cell_type": "code",
      "metadata": {
        "id": "OJaC6IvzbWox",
        "colab_type": "code",
        "outputId": "364c2cda-04c9-487f-ab04-b7afad74e8dc",
        "colab": {
          "base_uri": "https://localhost:8080/",
          "height": 104
        }
      },
      "source": [
        "#pre-processing : Mean normalization \n",
        "mu=np.zeros(a)\n",
        "print(mu)"
      ],
      "execution_count": 0,
      "outputs": [
        {
          "output_type": "stream",
          "text": [
            "[0. 0. 0. 0. 0. 0. 0. 0. 0. 0. 0. 0. 0. 0. 0. 0. 0. 0. 0. 0. 0. 0. 0. 0.\n",
            " 0. 0. 0. 0. 0. 0. 0. 0. 0. 0. 0. 0. 0. 0. 0. 0. 0. 0. 0. 0. 0. 0. 0. 0.\n",
            " 0. 0. 0. 0. 0. 0. 0. 0. 0. 0. 0. 0. 0. 0. 0. 0. 0. 0. 0. 0. 0. 0. 0. 0.\n",
            " 0. 0. 0. 0. 0. 0. 0. 0. 0. 0. 0. 0. 0. 0. 0. 0. 0. 0. 0. 0. 0. 0. 0. 0.\n",
            " 0. 0. 0. 0. 0. 0. 0. 0. 0. 0. 0.]\n"
          ],
          "name": "stdout"
        }
      ]
    },
    {
      "cell_type": "code",
      "metadata": {
        "id": "pGvGh-qktc7A",
        "colab_type": "code",
        "colab": {}
      },
      "source": [
        "npdataset=np.array(dataset)"
      ],
      "execution_count": 0,
      "outputs": []
    },
    {
      "cell_type": "code",
      "metadata": {
        "id": "6eMIF97obW96",
        "colab_type": "code",
        "outputId": "475acbca-4235-49e1-d8ba-fcca11cd1db5",
        "colab": {
          "base_uri": "https://localhost:8080/",
          "height": 260
        }
      },
      "source": [
        "for i in range (0,a):\n",
        "  for j in range (0,b):\n",
        "    mu[i]+=dataset[i][j]\n",
        "\n",
        "mu=mu/4\n",
        "print(mu)"
      ],
      "execution_count": 0,
      "outputs": [
        {
          "output_type": "stream",
          "text": [
            "[-0.0655  -0.05675  0.0055   0.01675  0.021   -0.073   -0.04525  0.0335\n",
            " -0.0175   0.03425 -0.0025  -0.02975 -0.05675  0.00025  0.06775  0.03125\n",
            " -0.04875 -0.06275  0.00125  0.04075 -0.008   -0.0585   0.0105   0.0085\n",
            " -0.07375  0.0185   0.06175  0.02025  0.027   -0.00175  0.03475 -0.00125\n",
            " -0.0745  -0.05125  0.008    0.063    0.006   -0.07575 -0.0325   0.01275\n",
            " -0.04025 -0.06475  0.0305  -0.01825 -0.07525 -0.05425 -0.02575 -0.0545\n",
            " -0.0555  -0.03375 -0.0255  -0.034   -0.0425  -0.005    0.07325  0.016\n",
            "  0.0305   0.02    -0.01425 -0.00275  0.014    0.0195   0.0255   0.01225\n",
            " -0.0005  -0.04525 -0.04875 -0.03625 -0.00375 -0.02075 -0.01575 -0.01725\n",
            " -0.0475  -0.0195  -0.006   -0.008   -0.00575  0.019    0.006   -0.04525\n",
            " -0.05675 -0.0525   0.01825  0.0335  -0.0175  -0.08425 -0.0535  -0.02075\n",
            "  0.035   -0.005   -0.0085  -0.04725 -0.02225  0.025    0.04025  0.014\n",
            " -0.0515   0.08475  0.0025   0.07875  0.02625 -0.02325 -0.0085  -0.00075\n",
            " -0.07825 -0.07375 -0.00475]\n"
          ],
          "name": "stdout"
        }
      ]
    },
    {
      "cell_type": "code",
      "metadata": {
        "id": "mtgnW4bEtVV_",
        "colab_type": "code",
        "colab": {}
      },
      "source": [
        ""
      ],
      "execution_count": 0,
      "outputs": []
    },
    {
      "cell_type": "code",
      "metadata": {
        "id": "v8PdOYCn0g1C",
        "colab_type": "code",
        "colab": {}
      },
      "source": [
        ""
      ],
      "execution_count": 0,
      "outputs": []
    },
    {
      "cell_type": "code",
      "metadata": {
        "id": "TnQ3lN8lufgt",
        "colab_type": "code",
        "colab": {}
      },
      "source": [
        ""
      ],
      "execution_count": 0,
      "outputs": []
    },
    {
      "cell_type": "markdown",
      "metadata": {
        "id": "mjotPGqEmMJb",
        "colab_type": "text"
      },
      "source": [
        "## Reducing the dimension fromm  **4 to k**"
      ]
    },
    {
      "cell_type": "code",
      "metadata": {
        "id": "3b_4JsvQbXA4",
        "colab_type": "code",
        "colab": {}
      },
      "source": [
        "#computing the covariance matrix\n",
        "cov=dataset[i]"
      ],
      "execution_count": 0,
      "outputs": []
    },
    {
      "cell_type": "code",
      "metadata": {
        "id": "T3UfT0oJAxH0",
        "colab_type": "code",
        "colab": {}
      },
      "source": [
        "tempmatarr=np.zeros((a,4,4))"
      ],
      "execution_count": 0,
      "outputs": []
    },
    {
      "cell_type": "code",
      "metadata": {
        "id": "PagBOrYXbxqh",
        "colab_type": "code",
        "colab": {}
      },
      "source": [
        "for i in range (0,a):\n",
        "  cov=np.matmul((np.asmatrix(dataset[i]).transpose()),np.asmatrix(dataset[i]))\n",
        "  tempmatarr[i]=cov"
      ],
      "execution_count": 0,
      "outputs": []
    },
    {
      "cell_type": "code",
      "metadata": {
        "id": "Bm9LvXLzfMxX",
        "colab_type": "code",
        "colab": {}
      },
      "source": [
        "from scipy.linalg import svd"
      ],
      "execution_count": 0,
      "outputs": []
    },
    {
      "cell_type": "code",
      "metadata": {
        "id": "HM42O2SdDWJa",
        "colab_type": "code",
        "outputId": "3d7ea4b4-5a35-4f16-f95e-fb36ece422d6",
        "colab": {
          "base_uri": "https://localhost:8080/",
          "height": 87
        }
      },
      "source": [
        "U, s, VT = svd(tempmatarr[1])\n",
        "print(U)"
      ],
      "execution_count": 0,
      "outputs": [
        {
          "output_type": "stream",
          "text": [
            "[[-0.20289895 -0.9789739   0.01514094 -0.01459029]\n",
            " [ 0.22353274 -0.06141385 -0.97275593  0.00271129]\n",
            " [-0.68435408  0.1288943  -0.16344981  0.69880606]\n",
            " [ 0.66372029 -0.14568702  0.16370953  0.71515723]]\n"
          ],
          "name": "stdout"
        }
      ]
    },
    {
      "cell_type": "code",
      "metadata": {
        "id": "Bejx8bm4dFdY",
        "colab_type": "code",
        "colab": {}
      },
      "source": [
        "Taking first 2 coloumns of U matrices for reducing the dimension to two"
      ],
      "execution_count": 0,
      "outputs": []
    },
    {
      "cell_type": "code",
      "metadata": {
        "id": "K6sNZUCldeQR",
        "colab_type": "code",
        "outputId": "c739c6ed-570f-472b-d90d-505c7ae81890",
        "colab": {
          "base_uri": "https://localhost:8080/",
          "height": 183
        }
      },
      "source": [
        ""
      ],
      "execution_count": 0,
      "outputs": [
        {
          "output_type": "error",
          "ename": "NameError",
          "evalue": "ignored",
          "traceback": [
            "\u001b[0;31m---------------------------------------------------------------------------\u001b[0m",
            "\u001b[0;31mNameError\u001b[0m                                 Traceback (most recent call last)",
            "\u001b[0;32m<ipython-input-1-260020b89912>\u001b[0m in \u001b[0;36m<module>\u001b[0;34m()\u001b[0m\n\u001b[0;32m----> 1\u001b[0;31m \u001b[0mprob\u001b[0m\u001b[0;34m.\u001b[0m\u001b[0msolve\u001b[0m\u001b[0;34m(\u001b[0m\u001b[0;34m)\u001b[0m\u001b[0;34m\u001b[0m\u001b[0;34m\u001b[0m\u001b[0m\n\u001b[0m\u001b[1;32m      2\u001b[0m \u001b[0mprint\u001b[0m\u001b[0;34m(\u001b[0m\u001b[0mLpStatus\u001b[0m\u001b[0;34m[\u001b[0m\u001b[0mprob\u001b[0m\u001b[0;34m.\u001b[0m\u001b[0mstatus\u001b[0m\u001b[0;34m]\u001b[0m\u001b[0;34m)\u001b[0m\u001b[0;34m\u001b[0m\u001b[0;34m\u001b[0m\u001b[0m\n",
            "\u001b[0;31mNameError\u001b[0m: name 'prob' is not defined"
          ]
        }
      ]
    },
    {
      "cell_type": "code",
      "metadata": {
        "id": "nRFkv2KRfvut",
        "colab_type": "code",
        "colab": {}
      },
      "source": [
        ""
      ],
      "execution_count": 0,
      "outputs": []
    },
    {
      "cell_type": "code",
      "metadata": {
        "id": "pzXcnV7HgYKa",
        "colab_type": "code",
        "colab": {}
      },
      "source": [
        ""
      ],
      "execution_count": 0,
      "outputs": []
    }
  ]
}